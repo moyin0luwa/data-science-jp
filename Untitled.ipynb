{
 "cells": [
  {
   "cell_type": "code",
   "execution_count": 5,
   "id": "3c684c61",
   "metadata": {},
   "outputs": [],
   "source": [
    "!jt -t monokai"
   ]
  },
  {
   "cell_type": "code",
   "execution_count": 17,
   "id": "2a2640a7",
   "metadata": {},
   "outputs": [],
   "source": [
    "!jt -t monokai -f fira -fs 13 -nf ptsans -nfs 11 -N -kl -cursw 5 -cursc r -cellw 95% -T"
   ]
  },
  {
   "cell_type": "code",
   "execution_count": 9,
   "id": "2a7dd59b",
   "metadata": {},
   "outputs": [],
   "source": [
    "!jt -t monokai -T -N"
   ]
  },
  {
   "cell_type": "code",
   "execution_count": 2,
   "id": "4b6a6f57",
   "metadata": {},
   "outputs": [],
   "source": [
    "!jt -t monokai -fs 100 -tfs 11 -nfs 115 -cellw 88% -T -N"
   ]
  }
 ],
 "metadata": {
  "kernelspec": {
   "display_name": "Python 3 (ipykernel)",
   "language": "python",
   "name": "python3"
  },
  "language_info": {
   "codemirror_mode": {
    "name": "ipython",
    "version": 3
   },
   "file_extension": ".py",
   "mimetype": "text/x-python",
   "name": "python",
   "nbconvert_exporter": "python",
   "pygments_lexer": "ipython3",
   "version": "3.10.4"
  }
 },
 "nbformat": 4,
 "nbformat_minor": 5
}
